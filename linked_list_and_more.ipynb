{
 "cells": [
  {
   "cell_type": "code",
   "execution_count": 2,
   "id": "65b03d8e-8a38-456e-9405-f95d39950364",
   "metadata": {},
   "outputs": [
    {
     "name": "stdout",
     "output_type": "stream",
     "text": [
      "1->2->3->4->5->"
     ]
    }
   ],
   "source": [
    "# Main Node \n",
    "class Node:\n",
    "    def __init__(self, data=None, next=None):\n",
    "        self.data = data\n",
    "        self.next = next\n",
    "\n",
    "    def setData(self, data):\n",
    "        self.data = data\n",
    "\n",
    "    def getData(self):\n",
    "        return self.data\n",
    "\n",
    "    def setNext(self, next):\n",
    "        self.next = next\n",
    "\n",
    "    def getNext(self):\n",
    "        return self.next\n",
    "\n",
    "# Create nodes and link them\n",
    "head = Node(1)\n",
    "node2 = Node(2)\n",
    "node3 = Node(3)\n",
    "node4 = Node(4)\n",
    "node5 = Node(5)\n",
    "\n",
    "head.setNext(node2)\n",
    "node2.setNext(node3)\n",
    "node3.setNext(node4)\n",
    "node4.setNext(node5)\n",
    "\n",
    "# Traverse List\n",
    "def Traverse(node):\n",
    "    temp = node\n",
    "    while temp:\n",
    "        print(temp.getData(), end=\"->\")\n",
    "        temp = temp.getNext()\n",
    "\n",
    "Traverse(head)\n"
   ]
  },
  {
   "cell_type": "code",
   "execution_count": 3,
   "id": "36dabe9f-2caf-4b0e-92b8-50aaca363e17",
   "metadata": {},
   "outputs": [
    {
     "name": "stdout",
     "output_type": "stream",
     "text": [
      "Reversed list:\n",
      "5->4->3->2->1->"
     ]
    }
   ],
   "source": [
    "def reverseLinkedList(head):\n",
    "    prev = None\n",
    "    current = head\n",
    "\n",
    "    while current is not None:\n",
    "        next_node = current.getNext()  # Save the next node\n",
    "        current.setNext(prev)  # Reverse the current node's pointer\n",
    "        prev = current  # Move prev to the current node\n",
    "        current = next_node  # Move to the next node\n",
    "\n",
    "    return prev  # Return the new head of the list\n",
    "\n",
    "# Reverse the list and capture the new head\n",
    "reversed_head = reverseLinkedList(head)\n",
    "\n",
    "print(\"Reversed list:\")\n",
    "Traverse(reversed_head)"
   ]
  },
  {
   "cell_type": "code",
   "execution_count": 4,
   "id": "1fb17d22-6b0b-4ca5-aa52-c4a8bc326503",
   "metadata": {},
   "outputs": [
    {
     "name": "stdout",
     "output_type": "stream",
     "text": [
      "1->2->3->4->5->6->"
     ]
    }
   ],
   "source": [
    "# Merge two sorted linked lists into one sorted linked list.\n",
    "def MergeList(list1, list2):\n",
    "    dummy = Node()\n",
    "    tail = dummy\n",
    "\n",
    "    while list1 and list2:\n",
    "        if list1.getData() < list2.getData():\n",
    "            tail.setNext(list1)\n",
    "            list1 = list1.getNext()\n",
    "        else:\n",
    "            tail.setNext(list2)\n",
    "            list2 = list2.getNext()\n",
    "        tail = tail.getNext()\n",
    "\n",
    "    if list1:\n",
    "        tail.setNext(list1)\n",
    "    else:\n",
    "        tail.setNext(list2)\n",
    "\n",
    "    return dummy.getNext()\n",
    "\n",
    "# Create the first sorted linked list: 1 -> 3 -> 5\n",
    "list1 = Node(1)\n",
    "list1.setNext(Node(3))\n",
    "list1.getNext().setNext(Node(5))\n",
    "\n",
    "# Create the second sorted linked list: 2 -> 4 -> 6\n",
    "list2 = Node(2)\n",
    "list2.setNext(Node(4))\n",
    "list2.getNext().setNext(Node(6))\n",
    "\n",
    "merged_list = MergeList(list1, list2)\n",
    "Traverse(merged_list)"
   ]
  },
  {
   "cell_type": "code",
   "execution_count": 5,
   "id": "35d11d20-9d7d-4323-bed1-1ded21914502",
   "metadata": {},
   "outputs": [
    {
     "data": {
      "text/plain": [
       "1"
      ]
     },
     "execution_count": 5,
     "metadata": {},
     "output_type": "execute_result"
    }
   ],
   "source": [
    "def NodeLength(node):\n",
    "    len = 0\n",
    "    while(node):\n",
    "        len +=1\n",
    "        node = node.getNext()\n",
    "    return len\n",
    "\n",
    "NodeLength(head)"
   ]
  },
  {
   "cell_type": "code",
   "execution_count": 6,
   "id": "9d55218a-0041-4dd7-8a81-d2f86766cb83",
   "metadata": {},
   "outputs": [
    {
     "name": "stdout",
     "output_type": "stream",
     "text": [
      "Modified list after removing 2nd node from the end:\n",
      "1->2->3->5->"
     ]
    }
   ],
   "source": [
    "# Remove the nth node from the end of a linked list.\n",
    "def removeNthFromEnd(head, n):\n",
    "    dummy = Node(0)\n",
    "    dummy.setNext(head)\n",
    "    slow = dummy\n",
    "    fast = dummy\n",
    "\n",
    "    for _ in range(n+1):\n",
    "        fast = fast.getNext()\n",
    "\n",
    "    while fast:\n",
    "        slow = slow.getNext()\n",
    "        fast = fast.getNext()\n",
    "\n",
    "    if slow and slow.getNext():\n",
    "        slow.setNext(slow.getNext().getNext())\n",
    "\n",
    "    return dummy.getNext()\n",
    "\n",
    "\n",
    "\n",
    "# Create the linked list: 1 -> 2 -> 3 -> 4 -> 5\n",
    "head = Node(1)\n",
    "node2 = Node(2)\n",
    "node3 = Node(3)\n",
    "node4 = Node(4)\n",
    "node5 = Node(5)\n",
    "\n",
    "head.setNext(node2)\n",
    "node2.setNext(node3)\n",
    "node3.setNext(node4)\n",
    "node4.setNext(node5)\n",
    "# Remove the 2nd node from the end\n",
    "head = removeNthFromEnd(head, 2)\n",
    "print(\"Modified list after removing 2nd node from the end:\")\n",
    "Traverse(head)"
   ]
  },
  {
   "cell_type": "code",
   "execution_count": 7,
   "id": "30abedfd-23db-4c1f-b1db-db9c6a6470e8",
   "metadata": {},
   "outputs": [
    {
     "name": "stdout",
     "output_type": "stream",
     "text": [
      "4->"
     ]
    }
   ],
   "source": [
    "# Find the intersection point of two linked lists\n",
    "def FindIntersection(head1, head2):\n",
    "    len1 = NodeLength(head1)\n",
    "    len2 = NodeLength(head2)\n",
    "\n",
    "    # Align the start of both lists\n",
    "    if len1 > len2:\n",
    "        for _ in range(len1 - len2):\n",
    "            head1 = head1.getNext()\n",
    "    else:\n",
    "        for _ in range(len2 - len1):\n",
    "            head2 = head2.getNext()\n",
    "\n",
    "    # Traverse both lists together until intersection point is found\n",
    "    while head1 and head2:\n",
    "        if head1 == head2:\n",
    "            return head1\n",
    "        head1 = head1.getNext()\n",
    "        head2 = head2.getNext()\n",
    "\n",
    "    return None\n",
    "\n",
    "\n",
    "# Create List 1: 1 -> 2 -> 3 -> 4\n",
    "head1 = Node(1)\n",
    "node2 = Node(2)\n",
    "node3 = Node(3)\n",
    "node4 = Node(4)\n",
    "head1.setNext(node2)\n",
    "node2.setNext(node3)\n",
    "node3.setNext(node4)\n",
    "\n",
    "# Create List 2: 9 -> 8 -> 3 -> 4\n",
    "head2 = Node(9)\n",
    "node8 = Node(8)\n",
    "head2.setNext(node8)\n",
    "node8.setNext(node4)  # Intersection starts at node 4\n",
    "\n",
    "intersection_node = FindIntersection(head1, head2)\n",
    "Traverse(intersection_node)"
   ]
  },
  {
   "cell_type": "code",
   "execution_count": 8,
   "id": "3d37c31a-0af6-4e6e-86bf-20738662a4de",
   "metadata": {},
   "outputs": [
    {
     "name": "stdout",
     "output_type": "stream",
     "text": [
      "1->2->3->"
     ]
    }
   ],
   "source": [
    "# Remove duplicates from a sorted linked list.\n",
    "def RemoveDuplicate(head):\n",
    "    current = head\n",
    "\n",
    "    while current and current.getNext():\n",
    "        if current.getData() == current.getNext().getData():\n",
    "            current.setNext(current.getNext().getNext())\n",
    "        else:\n",
    "            current = current.getNext()\n",
    "\n",
    "    return head\n",
    "\n",
    "head = Node(1)\n",
    "node2 = Node(1)\n",
    "node3 = Node(2)\n",
    "node4 = Node(3)\n",
    "node5 = Node(3)\n",
    "\n",
    "head.setNext(node2)\n",
    "node2.setNext(node3)\n",
    "node3.setNext(node4)\n",
    "node4.setNext(node5)\n",
    "\n",
    "RemoveDuplicate(head)\n",
    "Traverse(head)"
   ]
  },
  {
   "cell_type": "code",
   "execution_count": 9,
   "id": "d14a6170-297a-45e5-a3ca-d880ccb7cb16",
   "metadata": {},
   "outputs": [
    {
     "name": "stdout",
     "output_type": "stream",
     "text": [
      "7->0->8->"
     ]
    }
   ],
   "source": [
    "# Add two numbers represented by linked lists (where each node contains a single digit).\n",
    "def AddTwoNumbers(l1, l2):\n",
    "    dummy = Node(0)\n",
    "    current = dummy\n",
    "    carry = 0\n",
    "\n",
    "    while l1 or l2 or carry:\n",
    "        val1 = l1.getData() if l1 else 0\n",
    "        val2 = l2.getData() if l2 else 0\n",
    "        total = val1 + val2 + carry\n",
    "        carry = total // 10\n",
    "        current.setNext(Node(total % 10))\n",
    "        current = current.getNext()\n",
    "        \n",
    "        if l1:\n",
    "            l1 = l1.getNext()\n",
    "        if l2:\n",
    "            l2 = l2.getNext()\n",
    "\n",
    "    return dummy.getNext()\n",
    "\n",
    "# Create List 1: 2 -> 4 -> 3\n",
    "l1 = Node(2)\n",
    "l1_2 = Node(4)\n",
    "l1_3 = Node(3)\n",
    "l1.setNext(l1_2)\n",
    "l1_2.setNext(l1_3)\n",
    "\n",
    "# Create List 2: 5 -> 6 -> 4\n",
    "l2 = Node(5)\n",
    "l2_2 = Node(6)\n",
    "l2_3 = Node(4)\n",
    "l2.setNext(l2_2)\n",
    "l2_2.setNext(l2_3)\n",
    "\n",
    "# Add the two numbers\n",
    "result = AddTwoNumbers(l1, l2)\n",
    "Traverse(result)"
   ]
  },
  {
   "cell_type": "code",
   "execution_count": 10,
   "id": "f3f0c957-fcac-4b42-9875-987f8169c9c8",
   "metadata": {},
   "outputs": [
    {
     "name": "stdout",
     "output_type": "stream",
     "text": [
      "2->1->4->3->"
     ]
    }
   ],
   "source": [
    "# Swap nodes in pairs in a linked list. \n",
    "def SwapPairs(head):\n",
    "    # Edge case: if the list is empty or has only one node\n",
    "    if not head or not head.getNext():\n",
    "        return head\n",
    "\n",
    "    # Initialize pointers\n",
    "    new_head = head.getNext()\n",
    "    prev = None\n",
    "    current = head\n",
    "\n",
    "    # Iterate and swap pairs\n",
    "    while current and current.getNext():\n",
    "        next_pair = current.getNext().getNext()\n",
    "        second = current.getNext()\n",
    "\n",
    "        # Swap the nodes\n",
    "        second.setNext(current)\n",
    "        current.setNext(next_pair)\n",
    "\n",
    "        # Update the previous node to point to the new head of the swapped pair\n",
    "        if prev:\n",
    "            prev.setNext(second)\n",
    "\n",
    "        # Move the pointers\n",
    "        prev = current\n",
    "        current = next_pair\n",
    "\n",
    "    return new_head\n",
    "\n",
    "# Create a linked list: 1 -> 2 -> 3 -> 4\n",
    "head = Node(1)\n",
    "node2 = Node(2)\n",
    "node3 = Node(3)\n",
    "node4 = Node(4)\n",
    "head.setNext(node2)\n",
    "node2.setNext(node3)\n",
    "node3.setNext(node4)\n",
    "\n",
    "# Swap nodes in pairs\n",
    "new_head = SwapPairs(head)\n",
    "\n",
    "# Print the swapped list\n",
    "Traverse(new_head)"
   ]
  },
  {
   "cell_type": "code",
   "execution_count": 11,
   "id": "f5a37d93-39bf-4c91-958c-028668a9f8c4",
   "metadata": {},
   "outputs": [
    {
     "name": "stdout",
     "output_type": "stream",
     "text": [
      "3->2->1->4->5->"
     ]
    }
   ],
   "source": [
    "# Reverse nodes in a linked list in groups of k.\n",
    "def ReverseKGroup(head, k):\n",
    "    # Helper function to reverse a portion of the list\n",
    "    def reverse(head, k):\n",
    "        prev = None\n",
    "        current = head\n",
    "        next_node = None\n",
    "\n",
    "        while current and k > 0:\n",
    "            next_node = current.getNext()\n",
    "            current.setNext(prev)\n",
    "            prev = current\n",
    "            current = next_node\n",
    "            k -= 1\n",
    "\n",
    "        return prev, current\n",
    "\n",
    "    # Dummy node to handle edge cases\n",
    "    dummy = Node(0)\n",
    "    dummy.setNext(head)\n",
    "    prev_group = dummy\n",
    "    current = head\n",
    "\n",
    "    while True:\n",
    "        count = 0\n",
    "        temp = current\n",
    "\n",
    "        # Check if there are at least k nodes left in the list\n",
    "        while temp and count < k:\n",
    "            temp = temp.getNext()\n",
    "            count += 1\n",
    "\n",
    "        if count == k:\n",
    "            reversed_head, next_group = reverse(current, k)\n",
    "            prev_group.setNext(reversed_head)\n",
    "            current.setNext(next_group)\n",
    "\n",
    "            prev_group = current\n",
    "            current = next_group\n",
    "        else:\n",
    "            break\n",
    "\n",
    "    return dummy.getNext()\n",
    "\n",
    "# Create a linked list: 1 -> 2 -> 3 -> 4 -> 5\n",
    "head = Node(1)\n",
    "node2 = Node(2)\n",
    "node3 = Node(3)\n",
    "node4 = Node(4)\n",
    "node5 = Node(5)\n",
    "head.setNext(node2)\n",
    "node2.setNext(node3)\n",
    "node3.setNext(node4)\n",
    "node4.setNext(node5)\n",
    "\n",
    "# Reverse nodes in groups of 3\n",
    "new_head = ReverseKGroup(head, 3)\n",
    "\n",
    "# Print the reversed list\n",
    "Traverse(new_head)"
   ]
  },
  {
   "cell_type": "code",
   "execution_count": 12,
   "id": "940c68d4-2e9f-4cf8-b98b-d96b671ca9c8",
   "metadata": {},
   "outputs": [
    {
     "name": "stdout",
     "output_type": "stream",
     "text": [
      "Is palindrome: True\n"
     ]
    }
   ],
   "source": [
    "# Determine if a linked list is a palindrome.\n",
    "\n",
    "def reverse(head):\n",
    "        prev = None\n",
    "        current = head\n",
    "\n",
    "        while current:\n",
    "            next_node = current.getNext()\n",
    "            current.setNext(prev)\n",
    "            prev = current\n",
    "            current = next_node\n",
    "        return prev\n",
    "    \n",
    "def IsPalindrome(head):\n",
    "    if not head or not head.getNext():\n",
    "        return True\n",
    "\n",
    "    slow, fast = head, head\n",
    "    while fast and fast.getNext():\n",
    "        slow = slow.getNext()\n",
    "        fast = fast.getNext().getNext()\n",
    "\n",
    "    second_half = reverse(slow)\n",
    "    first_half = head\n",
    "\n",
    "    while second_half:\n",
    "        if first_half.getData() != second_half.getData():\n",
    "            return False\n",
    "\n",
    "        first_half = first_half.getNext()\n",
    "        second_half = second_half.getNext()\n",
    "\n",
    "    return True\n",
    "        \n",
    "\n",
    "\n",
    "head = Node(1)\n",
    "node2 = Node(2)\n",
    "node3 = Node(2)\n",
    "node4 = Node(1)\n",
    "head.setNext(node2)\n",
    "node2.setNext(node3)\n",
    "node3.setNext(node4)\n",
    "\n",
    "# Check if the list is a palindrome\n",
    "result = IsPalindrome(head)\n",
    "print(\"Is palindrome:\", result)"
   ]
  },
  {
   "cell_type": "code",
   "execution_count": 25,
   "id": "d878c554-a481-4f16-9a75-298a8510e463",
   "metadata": {},
   "outputs": [
    {
     "name": "stdout",
     "output_type": "stream",
     "text": [
      "4->5->1->2->3->"
     ]
    }
   ],
   "source": [
    "# Rotate a linked list to the right by k places. \n",
    "def RotateRight(head, k):\n",
    "    if not head or not head.getNext() or k == 0:\n",
    "        return head\n",
    "\n",
    "    length = 1\n",
    "    tail = head\n",
    "    \n",
    "    while tail.getNext():\n",
    "        tail = tail.getNext()\n",
    "        length += 1\n",
    "\n",
    "    k = k % length\n",
    "    if k == 0:\n",
    "        return head\n",
    "\n",
    "\n",
    "    new_tail = head\n",
    "    for _ in range(length - k - 1):\n",
    "        new_tail = new_tail.getNext()\n",
    "\n",
    "    new_head = new_tail.getNext()\n",
    "    new_tail.setNext(None)\n",
    "    tail.setNext(head)\n",
    "\n",
    "    return new_head\n",
    "\n",
    "head = Node(1)\n",
    "node2 = Node(2)\n",
    "node3 = Node(3)\n",
    "node4 = Node(4)\n",
    "node5 = Node(5)\n",
    "head.setNext(node2)\n",
    "node2.setNext(node3)\n",
    "node3.setNext(node4)\n",
    "node4.setNext(node5)\n",
    "\n",
    "# Rotate the list to the right by 2 places\n",
    "rotated_head = RotateRight(head, 2)\n",
    "\n",
    "# Print the rotated list\n",
    "Traverse(rotated_head)"
   ]
  },
  {
   "cell_type": "code",
   "execution_count": 2,
   "id": "77d6e51b-46b5-4527-a9c7-7752c0c5774b",
   "metadata": {},
   "outputs": [
    {
     "name": "stdout",
     "output_type": "stream",
     "text": [
      "1 <-> 2 <-> 3 <-> 4 <-> 5 <-> 9 <-> 10 <-> 7 <-> 8 <-> 11 <-> 12\n"
     ]
    }
   ],
   "source": [
    "# Flatten a multilevel doubly linked list.\n",
    "class Node:\n",
    "    def __init__(self, data=None, next=None, prev=None, child=None):\n",
    "        self.data = data\n",
    "        self.next = next\n",
    "        self.prev = prev\n",
    "        self.child = child\n",
    "\n",
    "    def setNext(self, next):\n",
    "        self.next = next\n",
    "        if next:\n",
    "            next.prev = self\n",
    "\n",
    "    def setPrev(self, prev):\n",
    "        self.prev = prev\n",
    "\n",
    "    def setChild(self, child):\n",
    "        self.child = child\n",
    "\n",
    "    def getNext(self):\n",
    "        return self.next\n",
    "\n",
    "    def getPrev(self):\n",
    "        return self.prev\n",
    "\n",
    "    def getChild(self):\n",
    "        return self.child\n",
    "\n",
    "    def getData(self):\n",
    "        return self.data\n",
    "\n",
    "def flatten(head):\n",
    "    if not head:\n",
    "        return head\n",
    "\n",
    "    current = head\n",
    "    while current:\n",
    "        if current.child:\n",
    "            # Save the next node\n",
    "            next_node = current.next\n",
    "\n",
    "            # Flatten the child list\n",
    "            child = current.child\n",
    "            current.child = None\n",
    "            current.next = child\n",
    "            child.prev = current\n",
    "\n",
    "            # Find the tail of the child list\n",
    "            tail = child\n",
    "            while tail.next:\n",
    "                tail = tail.next\n",
    "\n",
    "            # Connect tail to the next node\n",
    "            if next_node:\n",
    "                tail.next = next_node\n",
    "                next_node.prev = tail\n",
    "\n",
    "        current = current.next\n",
    "\n",
    "    return head\n",
    "\n",
    "def Traverse(head):\n",
    "    temp = head\n",
    "    while temp:\n",
    "        print(temp.getData(), end=\" <-> \" if temp.getNext() else \"\")\n",
    "        temp = temp.getNext()\n",
    "    print()\n",
    "\n",
    "# Example usage\n",
    "\n",
    "# Creating the multilevel doubly linked list\n",
    "head = Node(1)\n",
    "node2 = Node(2)\n",
    "node3 = Node(3)\n",
    "node4 = Node(4)\n",
    "node5 = Node(5)\n",
    "node6 = Node(6)\n",
    "node7 = Node(7)\n",
    "node8 = Node(8)\n",
    "node9 = Node(9)\n",
    "node10 = Node(10)\n",
    "node11 = Node(11)\n",
    "node12 = Node(12)\n",
    "node13 = Node(13)\n",
    "\n",
    "# Level 1\n",
    "head.setNext(node2)\n",
    "node2.setNext(node3)\n",
    "node3.setNext(node7)\n",
    "node7.setNext(node8)\n",
    "node8.setNext(node11)\n",
    "node11.setNext(node12)\n",
    "\n",
    "# Level 2\n",
    "node3.setChild(node4)\n",
    "node4.setNext(node5)\n",
    "node5.setNext(node9)\n",
    "node9.setNext(node10)\n",
    "\n",
    "# Level 3\n",
    "node6.setChild(node13)\n",
    "\n",
    "# Flatten the list\n",
    "flattened_head = flatten(head)\n",
    "Traverse(flattened_head)\n"
   ]
  },
  {
   "cell_type": "code",
   "execution_count": 6,
   "id": "0a2c5041-c1de-4b79-8447-aef38dba4e0c",
   "metadata": {},
   "outputs": [
    {
     "name": "stdout",
     "output_type": "stream",
     "text": [
      "1 -> 3 -> 5 -> 2 -> 4\n"
     ]
    }
   ],
   "source": [
    "# Rearrange a linked list such that all even positioned nodes are placed at the end.\n",
    "class Node:\n",
    "    def __init__(self, data=None, next=None):\n",
    "        self.data = data\n",
    "        self.next = next\n",
    "\n",
    "    def setData(self, data):\n",
    "        self.data = data\n",
    "\n",
    "    def getData(self):\n",
    "        return self.data\n",
    "\n",
    "    def setNext(self, next):\n",
    "        self.next = next\n",
    "\n",
    "    def getNext(self):\n",
    "        return self.next\n",
    "\n",
    "# ---------------------------------------------\n",
    "def rearrangeEvenOdd(head):\n",
    "    if not head:\n",
    "        return head\n",
    "\n",
    "    # Initializing odd and even pointers\n",
    "    odd_head = head\n",
    "    even_head = head.getNext()\n",
    "\n",
    "    odd = odd_head\n",
    "    even = even_head\n",
    "\n",
    "    while even and even.getNext():\n",
    "        odd.setNext(even.getNext())\n",
    "        odd = odd.getNext()\n",
    "        even.setNext(odd.getNext())\n",
    "        even = even.getNext()\n",
    "\n",
    "    # Connecting the end of odd list to the head of even list\n",
    "    odd.setNext(even_head)\n",
    "\n",
    "    return odd_head\n",
    "\n",
    "# Traverse function to print the list\n",
    "def Traverse(node):\n",
    "    temp = node\n",
    "    while temp:\n",
    "        print(temp.getData(), end=\" -> \" if temp.getNext() else \"\")\n",
    "        temp = temp.getNext()\n",
    "    print()\n",
    "\n",
    "# Example usage\n",
    "\n",
    "# Creating the linked list 1 -> 2 -> 3 -> 4 -> 5\n",
    "head = Node(1)\n",
    "node2 = Node(2)\n",
    "node3 = Node(3)\n",
    "node4 = Node(4)\n",
    "node5 = Node(5)\n",
    "\n",
    "head.setNext(node2)\n",
    "node2.setNext(node3)\n",
    "node3.setNext(node4)\n",
    "node4.setNext(node5)\n",
    "\n",
    "# Rearrange the linked list\n",
    "rearranged_head = rearrangeEvenOdd(head)\n",
    "Traverse(rearranged_head)"
   ]
  },
  {
   "cell_type": "code",
   "execution_count": 8,
   "id": "7fdd481f-da6b-45a0-8b38-37aa791e8004",
   "metadata": {},
   "outputs": [
    {
     "name": "stdout",
     "output_type": "stream",
     "text": [
      "1 -> 2 -> 4\n"
     ]
    }
   ],
   "source": [
    "# Given a non-negative number represented as a linked list, add one to it. \n",
    "\n",
    "# Function to reverse the linked list\n",
    "def reverseList(head):\n",
    "    prev = None\n",
    "    current = head\n",
    "\n",
    "    while current:\n",
    "        next_node = current.getNext()\n",
    "        current.setNext(prev)\n",
    "        prev = current\n",
    "        current = next_node\n",
    "\n",
    "    return prev\n",
    "\n",
    "# Function to add one to the reversed list\n",
    "def addOneUtil(head):\n",
    "    carry = 1\n",
    "    current = head\n",
    "\n",
    "    while current:\n",
    "        new_value = current.getData() + carry\n",
    "        carry = new_value // 10\n",
    "        current.setData(new_value % 10)\n",
    "        temp = current\n",
    "        current = current.getNext()\n",
    "\n",
    "    if carry > 0:\n",
    "        temp.setNext(Node(carry))\n",
    "\n",
    "    return head\n",
    "\n",
    "# Main function to add one to the linked list\n",
    "def addOne(head):\n",
    "    head = reverseList(head)\n",
    "    head = addOneUtil(head)\n",
    "    head = reverseList(head)\n",
    "    return head\n",
    "\n",
    "# Traverse function to print the list\n",
    "def Traverse(node):\n",
    "    temp = node\n",
    "    while temp:\n",
    "        print(temp.getData(), end=\" -> \" if temp.getNext() else \"\")\n",
    "        temp = temp.getNext()\n",
    "    print()\n",
    "\n",
    "# Example usage\n",
    "\n",
    "# Creating the linked list 1 -> 2 -> 3\n",
    "head = Node(1)\n",
    "node2 = Node(2)\n",
    "node3 = Node(3)\n",
    "\n",
    "head.setNext(node2)\n",
    "node2.setNext(node3)\n",
    "\n",
    "# Add one to the linked list\n",
    "updated_head = addOne(head)\n",
    "Traverse(updated_head)"
   ]
  },
  {
   "cell_type": "code",
   "execution_count": null,
   "id": "808caf0e-dde2-4395-9eb5-9556ed0b2eb2",
   "metadata": {},
   "outputs": [],
   "source": [
    "# ---------------------------------- sorting --------------------------------------------"
   ]
  },
  {
   "cell_type": "code",
   "execution_count": 14,
   "id": "400633e8-96d2-468c-bca2-3d6c65dd4325",
   "metadata": {},
   "outputs": [
    {
     "name": "stdout",
     "output_type": "stream",
     "text": [
      "2\n"
     ]
    }
   ],
   "source": [
    "# Given a sorted array and a target value, return the index if the target is found. If not, return the\n",
    "# index where it would be inserted.\n",
    "\n",
    "def Search_or_Insert(nums, target):\n",
    "    left, right = 0, len(nums) - 1\n",
    "\n",
    "    while left <= right:\n",
    "        mid = (left + right) // 2\n",
    "\n",
    "        if nums[mid] == target:\n",
    "            return mid\n",
    "        elif nums[mid] < target:\n",
    "            left = mid + 1\n",
    "        else:\n",
    "            right = mid - 1\n",
    "\n",
    "    return left\n",
    "\n",
    "# Example usage\n",
    "nums = [1, 3, 5, 6]\n",
    "target = 5\n",
    "print(Search_or_Insert(nums, target))"
   ]
  },
  {
   "cell_type": "code",
   "execution_count": 16,
   "id": "2c14d526-1cdd-42ba-814f-0b53de1aeb76",
   "metadata": {},
   "outputs": [
    {
     "name": "stdout",
     "output_type": "stream",
     "text": [
      "0\n"
     ]
    }
   ],
   "source": [
    "# Find the minimum element in a rotated sorted array. \n",
    "def findMin(nums):\n",
    "    left, right = 0, len(nums) - 1\n",
    "    \n",
    "    while left < right:\n",
    "        mid = (left + right) // 2\n",
    "        \n",
    "        if nums[mid] > nums[right]:\n",
    "            left = mid + 1\n",
    "        else:\n",
    "            right = mid\n",
    "    \n",
    "    return nums[left]\n",
    "\n",
    "# Example usage\n",
    "nums = [4, 5, 6, 7, 0, 1, 2]\n",
    "print(findMin(nums))"
   ]
  },
  {
   "cell_type": "code",
   "execution_count": 20,
   "id": "e8708e1c-dd8e-4912-b948-e6fd748eb54f",
   "metadata": {},
   "outputs": [
    {
     "name": "stdout",
     "output_type": "stream",
     "text": [
      "4\n"
     ]
    }
   ],
   "source": [
    "# 16: Search for a target value in a rotated sorted array.\n",
    "def search(nums, target):\n",
    "    # Initialize the pointers for the binary search\n",
    "    left, right = 0, len(nums) - 1\n",
    "    \n",
    "    # Loop until the pointers cross\n",
    "    while left <= right:\n",
    "        # Calculate the middle index of the current search range\n",
    "        mid = (left + right) // 2\n",
    "        \n",
    "        # Check if the middle element is the target\n",
    "        if nums[mid] == target:\n",
    "            return mid\n",
    "        \n",
    "        # Determine which side is properly sorted\n",
    "        if nums[left] <= nums[mid]:  # If the left side is sorted\n",
    "            if nums[left] <= target < nums[mid]:  # If the target is in the left sorted part\n",
    "                right = mid - 1\n",
    "            else:  # If the target is in the right part\n",
    "                left = mid + 1\n",
    "        else:  # If the right side is sorted\n",
    "            if nums[mid] < target <= nums[right]:  # If the target is in the right sorted part\n",
    "                left = mid + 1\n",
    "            else:  # If the target is in the left part\n",
    "                right = mid - 1\n",
    "    \n",
    "    # If we exit the loop, the target is not in the array\n",
    "    return -1\n",
    "\n",
    "# Example usage\n",
    "nums = [4, 5, 6, 7, 0, 1, 2]\n",
    "target = 0\n",
    "print(search(nums, target)) "
   ]
  },
  {
   "cell_type": "code",
   "execution_count": 26,
   "id": "106149fe-a512-47b6-a749-f4f55f3e2397",
   "metadata": {},
   "outputs": [
    {
     "name": "stdout",
     "output_type": "stream",
     "text": [
      "2\n"
     ]
    }
   ],
   "source": [
    "# Find the peak element in an array. A peak element is greater than its neighbors.\n",
    "def FindPeak(nums):\n",
    "    left, right = 0, len(nums) - 1\n",
    "\n",
    "    while left < right:\n",
    "        mid = (left + right)//2\n",
    "        if nums[mid] > nums[mid + 1]:\n",
    "            right = mid\n",
    "        else:\n",
    "            left = mid + 1\n",
    "\n",
    "    return left\n",
    "\n",
    "nums = [1, 2, 3, 1]\n",
    "print(FindPeak(nums))"
   ]
  },
  {
   "cell_type": "code",
   "execution_count": 4,
   "id": "2924bfc4-be36-496c-ac4b-f8df752b247e",
   "metadata": {},
   "outputs": [
    {
     "name": "stdout",
     "output_type": "stream",
     "text": [
      "8\n"
     ]
    }
   ],
   "source": [
    "# Given a m x n matrix where each row and column is sorted in ascending order, count the number\n",
    "# of negative numbers.\n",
    "\n",
    "def CountNegative(grid):\n",
    "    rows = len(grid)\n",
    "    cols = len(grid[0])\n",
    "\n",
    "    row = rows - 1\n",
    "    col = 0\n",
    "    count = 0\n",
    "\n",
    "    while row >= 0 and col < cols:\n",
    "        if grid[row][col] < 0:\n",
    "            count += (cols - col)\n",
    "            row -= 1\n",
    "        else:\n",
    "            col +=1\n",
    "\n",
    "    return count\n",
    "\n",
    "grid = [\n",
    "    [4, 3, 2, -1],\n",
    "    [3, 2, 1, -1],\n",
    "    [1, 1, -1, -2],\n",
    "    [-1, -1, -2, -3]\n",
    "]\n",
    "print(CountNegative(grid))"
   ]
  },
  {
   "cell_type": "code",
   "execution_count": 17,
   "id": "efb3b370-213d-4766-b2d4-c695595b4601",
   "metadata": {},
   "outputs": [
    {
     "name": "stdout",
     "output_type": "stream",
     "text": [
      "True\n"
     ]
    }
   ],
   "source": [
    "# Given a 2D matrix sorted in ascending order in each row, and the first integer of each row is\n",
    "# greater than the last integer of the previous row, determine if a target value is present in the matrix. \n",
    "    \n",
    "def searchMatrix(matrix, target):\n",
    "    if not matrix or not matrix[0]:\n",
    "        return False\n",
    "\n",
    "    rows = len(matrix)\n",
    "    cols = len(matrix[0])\n",
    "\n",
    "    # Binary search in the 2D matrix treated as a 1D array\n",
    "    left, right = 0, rows * cols - 1\n",
    "\n",
    "    while left <= right:\n",
    "        mid = (left + right) // 2\n",
    "        mid_value = matrix[mid // cols][mid % cols]\n",
    "\n",
    "        if mid_value == target:\n",
    "            return True\n",
    "        elif mid_value < target:\n",
    "            left = mid + 1\n",
    "        else:\n",
    "            right = mid - 1\n",
    "\n",
    "    return False\n",
    "\n",
    "# Example usage\n",
    "matrix = [\n",
    "    [1, 3, 5, 7],\n",
    "    [10, 11, 16, 20],\n",
    "    [23, 30, 34, 60]\n",
    "]\n",
    "target = 3\n",
    "print(searchMatrix(matrix, target))  # Output: True\n"
   ]
  },
  {
   "cell_type": "code",
   "execution_count": 18,
   "id": "90abac57-1933-4e15-bdbc-c94ef7a4dd4e",
   "metadata": {},
   "outputs": [
    {
     "name": "stdout",
     "output_type": "stream",
     "text": [
      "2\n"
     ]
    }
   ],
   "source": [
    "# Given two sorted arrays, find the median of the combined sorted array.\n",
    "\n",
    "def findMedianSortedArrays(nums1, nums2):\n",
    "    if len(nums1) > len(nums2):\n",
    "        nums1, nums2 = nums2, nums1  # Ensuring nums1 is the smaller array\n",
    "\n",
    "    x, y = len(nums1), len(nums2)\n",
    "    low, high = 0, x\n",
    "\n",
    "    while low <= high:\n",
    "        partitionX = (low + high) // 2\n",
    "        partitionY = (x + y + 1) // 2 - partitionX\n",
    "\n",
    "        # Handling edge cases where partition is at the start or end of the array\n",
    "        maxX = float('-inf') if partitionX == 0 else nums1[partitionX - 1]\n",
    "        minX = float('inf') if partitionX == x else nums1[partitionX]\n",
    "        \n",
    "        maxY = float('-inf') if partitionY == 0 else nums2[partitionY - 1]\n",
    "        minY = float('inf') if partitionY == y else nums2[partitionY]\n",
    "\n",
    "        if maxX <= minY and maxY <= minX:\n",
    "            # We have partitioned the array at the correct place\n",
    "            # Now we need to get the median\n",
    "            if (x + y) % 2 == 0:\n",
    "                return (max(maxX, maxY) + min(minX, minY)) / 2\n",
    "            else:\n",
    "                return max(maxX, maxY)\n",
    "\n",
    "        elif maxX > minY:\n",
    "            # We are too far on the right side for partitionX. Go on left side.\n",
    "            high = partitionX - 1\n",
    "        else:\n",
    "            # We are too far on the left side for partitionX. Go on right side.\n",
    "            low = partitionX + 1\n",
    "\n",
    "    # If we exit the loop, there's an error in the input\n",
    "    raise ValueError(\"Input arrays are not sorted or not of the expected form\")\n",
    "\n",
    "# Example usage\n",
    "nums1 = [1, 3]\n",
    "nums2 = [2]\n",
    "print(findMedianSortedArrays(nums1, nums2))"
   ]
  },
  {
   "cell_type": "code",
   "execution_count": 21,
   "id": "739bd1ca-955b-43a7-8218-267f28aa72be",
   "metadata": {},
   "outputs": [
    {
     "name": "stdout",
     "output_type": "stream",
     "text": [
      "c\n"
     ]
    }
   ],
   "source": [
    "# Given a sorted character array and a target letter, find the smallest letter in the array that is\n",
    "# greater than the target.\n",
    "\n",
    "def nextGreatestLetter(letters, target):\n",
    "    left, right = 0, len(letters) - 1\n",
    "\n",
    "    # Binary search for the smallest letter greater than the target\n",
    "    while left <= right:\n",
    "        mid = (left + right) // 2\n",
    "        \n",
    "        if letters[mid] <= target:\n",
    "            left = mid + 1  # Move right if mid letter is less than or equal to target\n",
    "        else:\n",
    "            right = mid - 1  # Move left if mid letter is greater than target\n",
    "\n",
    "    # Wrap around to the first element if no greater letter is found within bounds\n",
    "    return letters[left % len(letters)]\n",
    "\n",
    "# Example usage\n",
    "letters = ['c', 'f', 'j']\n",
    "target = 'a'\n",
    "print(nextGreatestLetter(letters, target))"
   ]
  },
  {
   "cell_type": "code",
   "execution_count": 22,
   "id": "152cf3ce-5dbf-4f52-8824-74773ba5e8fd",
   "metadata": {},
   "outputs": [
    {
     "name": "stdout",
     "output_type": "stream",
     "text": [
      "[0, 0, 1, 1, 2, 2]\n"
     ]
    }
   ],
   "source": [
    "# Given an array with n objects colored red, white, or blue, sort them in-place so that objects of\n",
    "# the same color are adjacent, with the colors in the order red, white, and blue.\n",
    "\n",
    "def sortColors(nums):\n",
    "    low, mid, high = 0, 0, len(nums) - 1\n",
    "\n",
    "    while mid <= high:\n",
    "        if nums[mid] == 0:\n",
    "            # Swap the current element with the element at the 'low' pointer\n",
    "            nums[low], nums[mid] = nums[mid], nums[low]\n",
    "            low += 1\n",
    "            mid += 1\n",
    "        elif nums[mid] == 1:\n",
    "            mid += 1\n",
    "        else:\n",
    "            # Swap the current element with the element at the 'high' pointer\n",
    "            nums[high], nums[mid] = nums[mid], nums[high]\n",
    "            high -= 1\n",
    "\n",
    "# Example usage\n",
    "nums = [2, 0, 2, 1, 1, 0]\n",
    "sortColors(nums)\n",
    "print(nums)"
   ]
  },
  {
   "cell_type": "code",
   "execution_count": 23,
   "id": "bb51b958-2390-400b-ad9c-ef0d57ef0e26",
   "metadata": {},
   "outputs": [
    {
     "name": "stdout",
     "output_type": "stream",
     "text": [
      "5\n"
     ]
    }
   ],
   "source": [
    "# Find the kth largest element in an unsorted array.\n",
    "\n",
    "import random\n",
    "\n",
    "def partition(nums, left, right):\n",
    "    pivot_index = random.randint(left, right)\n",
    "    pivot = nums[pivot_index]\n",
    "    nums[pivot_index], nums[right] = nums[right], nums[pivot_index]\n",
    "    store_index = left\n",
    "\n",
    "    for i in range(left, right):\n",
    "        if nums[i] < pivot:\n",
    "            nums[store_index], nums[i] = nums[i], nums[store_index]\n",
    "            store_index += 1\n",
    "\n",
    "    nums[store_index], nums[right] = nums[right], nums[store_index]\n",
    "    return store_index\n",
    "\n",
    "def quickselect(nums, left, right, k_smallest):\n",
    "    if left == right:\n",
    "        return nums[left]\n",
    "\n",
    "    pivot_index = partition(nums, left, right)\n",
    "\n",
    "    if k_smallest == pivot_index:\n",
    "        return nums[k_smallest]\n",
    "    elif k_smallest < pivot_index:\n",
    "        return quickselect(nums, left, pivot_index - 1, k_smallest)\n",
    "    else:\n",
    "        return quickselect(nums, pivot_index + 1, right, k_smallest)\n",
    "\n",
    "def findKthLargest(nums, k):\n",
    "    size = len(nums)\n",
    "    return quickselect(nums, 0, size - 1, size - k)\n",
    "\n",
    "# Example usage\n",
    "nums = [3, 2, 1, 5, 6, 4]\n",
    "k = 2\n",
    "print(findKthLargest(nums, k))"
   ]
  },
  {
   "cell_type": "code",
   "execution_count": 24,
   "id": "225eefc4-c10c-4efc-a2e1-e652988825b9",
   "metadata": {},
   "outputs": [
    {
     "name": "stdout",
     "output_type": "stream",
     "text": [
      "[3, 5, 1, 6, 2, 4]\n"
     ]
    }
   ],
   "source": [
    "# Given an unsorted array, reorder it in-place such that nums[0] <= nums[1] >= nums[2] <=\n",
    "# nums[3]...\n",
    "\n",
    "def wiggleSort(nums):\n",
    "    # Iterate through the array\n",
    "    for i in range(len(nums) - 1):\n",
    "        # Check if the current index is even or odd\n",
    "        if i % 2 == 0:\n",
    "            # If the index is even, ensure nums[i] <= nums[i + 1]\n",
    "            if nums[i] > nums[i + 1]:\n",
    "                nums[i], nums[i + 1] = nums[i + 1], nums[i]\n",
    "        else:\n",
    "            # If the index is odd, ensure nums[i] >= nums[i + 1]\n",
    "            if nums[i] < nums[i + 1]:\n",
    "                nums[i], nums[i + 1] = nums[i + 1], nums[i]\n",
    "\n",
    "# Example usage\n",
    "nums = [3, 5, 2, 1, 6, 4]\n",
    "wiggleSort(nums)\n",
    "print(nums)  # Output: [3, 5, 1, 6, 2, 4]\n"
   ]
  },
  {
   "cell_type": "code",
   "execution_count": 27,
   "id": "b312cc6a-7438-40eb-ab9c-debc697d1765",
   "metadata": {},
   "outputs": [
    {
     "name": "stdout",
     "output_type": "stream",
     "text": [
      "15\n"
     ]
    }
   ],
   "source": [
    "# Given an array of integers, calculate the sum of all its elements. \n",
    "\n",
    "def CalculateSum(nums):\n",
    "    count_sum = 0\n",
    "    for i in nums:\n",
    "        count_sum += i\n",
    "    return count_sum\n",
    "\n",
    "print(CalculateSum([1, 2, 3, 4, 5]))"
   ]
  },
  {
   "cell_type": "code",
   "execution_count": 34,
   "id": "c7b54e83-1252-41b0-9b7a-69657ec20a5a",
   "metadata": {},
   "outputs": [
    {
     "name": "stdout",
     "output_type": "stream",
     "text": [
      "9\n"
     ]
    }
   ],
   "source": [
    "# Find the maximum element in an array of integers.\n",
    "\n",
    "def MaxElement(nums):\n",
    "    max_el = nums[0]\n",
    "    for num in nums[1:]:\n",
    "        if num > max_el:\n",
    "            max_el = num\n",
    "\n",
    "    return max_el\n",
    "\n",
    "print(MaxElement([3, 7, 2, 9, 4, 1]))"
   ]
  },
  {
   "cell_type": "code",
   "execution_count": 41,
   "id": "c253a222-0b2b-4883-99e2-32df6f31b652",
   "metadata": {},
   "outputs": [
    {
     "name": "stdout",
     "output_type": "stream",
     "text": [
      "2\n"
     ]
    }
   ],
   "source": [
    "# Implement linear search to find the index of a target element in an array.\n",
    "def LinearSearch(nums, target):\n",
    "    for index in range(len(nums)):\n",
    "        if nums[index] == target:\n",
    "            return index\n",
    "\n",
    "\n",
    "nums = [5, 3, 8, 2, 7, 4]\n",
    "target = 8\n",
    "print(LinearSearch(nums, target))"
   ]
  },
  {
   "cell_type": "code",
   "execution_count": 42,
   "id": "5b03cee6-3364-430a-ae89-6694abbd7af0",
   "metadata": {},
   "outputs": [
    {
     "name": "stdout",
     "output_type": "stream",
     "text": [
      "120\n"
     ]
    }
   ],
   "source": [
    "# Calculate the factorial of a given number.\n",
    "def FactSum(nums):\n",
    "    sum_is = 1\n",
    "    for i in range(2, nums + 1):\n",
    "        sum_is *= i\n",
    "\n",
    "    return sum_is\n",
    "\n",
    "print(FactSum(5))"
   ]
  },
  {
   "cell_type": "code",
   "execution_count": 50,
   "id": "30cc6ef9-255a-48cb-8990-9b773d79e262",
   "metadata": {},
   "outputs": [
    {
     "name": "stdout",
     "output_type": "stream",
     "text": [
      "False\n"
     ]
    }
   ],
   "source": [
    "# Check if a given number is a prime number.\n",
    "def Isprime(number):\n",
    "    if number <= 1:\n",
    "        return False\n",
    "    if number <= 3:\n",
    "        return True\n",
    "\n",
    "    if number % 2 == 0 or number % 3 == 0:\n",
    "        return False\n",
    "\n",
    "    i = 5\n",
    "    while i * i <= number:\n",
    "        if number % 2 == 0 or number % (i + 2) == 0:\n",
    "            return False\n",
    "\n",
    "        i += 6\n",
    "\n",
    "    return True\n",
    "\n",
    "print(Isprime(8))"
   ]
  },
  {
   "cell_type": "code",
   "execution_count": 51,
   "id": "4aa5a185-8ff2-4cee-bd67-0dc28fdf3ec5",
   "metadata": {},
   "outputs": [
    {
     "name": "stdout",
     "output_type": "stream",
     "text": [
      "[0, 1, 1, 2, 3, 5, 8]\n"
     ]
    }
   ],
   "source": [
    "# Generate the Fibonacci series up to a given number n.\n",
    "\n",
    "def GenerateFibonacci(number):\n",
    "    genrated_fibo = []\n",
    "    a, b = 0, 1\n",
    "\n",
    "    while a <= number:\n",
    "        genrated_fibo.append(a)\n",
    "        a, b = b, a + b\n",
    "\n",
    "    return genrated_fibo\n",
    "\n",
    "print(GenerateFibonacci(8))"
   ]
  },
  {
   "cell_type": "code",
   "execution_count": 53,
   "id": "561d36da-0871-48c4-9436-e01a0bec3cb8",
   "metadata": {},
   "outputs": [
    {
     "name": "stdout",
     "output_type": "stream",
     "text": [
      "81\n"
     ]
    }
   ],
   "source": [
    "# Calculate the power of a number using recursion.\n",
    "def CalculatePower(base, exponent):\n",
    "    if exponent == 0:\n",
    "        return 1\n",
    "\n",
    "    return base * CalculatePower(base, exponent - 1)\n",
    "\n",
    "base = 3\n",
    "exponent = 4\n",
    "print(CalculatePower(base, exponent))"
   ]
  },
  {
   "cell_type": "code",
   "execution_count": 54,
   "id": "0e106206-5069-42f3-bd4f-4b789f128a37",
   "metadata": {},
   "outputs": [
    {
     "name": "stdout",
     "output_type": "stream",
     "text": [
      "olleh\n"
     ]
    }
   ],
   "source": [
    "# Reverse a given string.\n",
    "def ReverseString(input):\n",
    "    if len(input) <= 1:\n",
    "        return input\n",
    "\n",
    "    return ReverseString(input[1:]) + input[0]\n",
    "\n",
    "input = \"hello\"\n",
    "print(ReverseString(input))"
   ]
  }
 ],
 "metadata": {
  "kernelspec": {
   "display_name": "Python 3 (ipykernel)",
   "language": "python",
   "name": "python3"
  },
  "language_info": {
   "codemirror_mode": {
    "name": "ipython",
    "version": 3
   },
   "file_extension": ".py",
   "mimetype": "text/x-python",
   "name": "python",
   "nbconvert_exporter": "python",
   "pygments_lexer": "ipython3",
   "version": "3.12.0"
  }
 },
 "nbformat": 4,
 "nbformat_minor": 5
}
